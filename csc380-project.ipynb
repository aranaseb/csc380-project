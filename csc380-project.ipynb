{
 "cells": [
  {
   "cell_type": "markdown",
   "id": "585e9ddf-3acb-4fbe-99b7-80a53ea0a4b2",
   "metadata": {},
   "source": [
    "# CSC380 Decision Tree Classifier Project\n",
    "\n",
    "<div>\n",
    "        Members: Sebastian Arana and Austin Baber\n",
    "</div>"
   ]
  },
  {
   "cell_type": "code",
   "execution_count": null,
   "id": "810f4445-8bc6-4759-a99c-7cd552bc6f63",
   "metadata": {},
   "outputs": [],
   "source": [
    "import warnings\n",
    "# Suppress warnings\n",
    "warnings.filterwarnings(\"ignore\")"
   ]
  },
  {
   "cell_type": "markdown",
   "id": "c87abda0-2639-40b1-8cb8-3ab5189718c3",
   "metadata": {},
   "source": [
    "### Imports\n",
    "<div>We are using scikit-learn, numpy, pandas, matplotlib</div>"
   ]
  },
  {
   "cell_type": "code",
   "execution_count": null,
   "id": "0a60da78-f715-4851-97a3-087a601db4bc",
   "metadata": {},
   "outputs": [],
   "source": [
    "import numpy as np\n",
    "import pandas as pd\n",
    "import matplotlib.pyplot as plt\n",
    "\n",
    "from sklearn.svm import SVC\n",
    "\n",
    "from sklearn.metrics import accuracy_score, classification_report, confusion_matrix,ConfusionMatrixDisplay"
   ]
  },
  {
   "cell_type": "markdown",
   "id": "0a6ef51b-8e7f-4c40-9f60-61841d4cea31",
   "metadata": {},
   "source": [
    "### Linear Boundary Flag\n",
    "<p>Toggles linear vs nonlinear boundary</p>"
   ]
  },
  {
   "cell_type": "code",
   "execution_count": null,
   "id": "1293a253-f72f-4628-9583-c087bbdf019b",
   "metadata": {},
   "outputs": [],
   "source": [
    "linear_bound = False"
   ]
  },
  {
   "cell_type": "code",
   "execution_count": null,
   "id": "007f8bec-1bf8-4781-83b6-3260595bb5b3",
   "metadata": {},
   "outputs": [],
   "source": []
  }
 ],
 "metadata": {
  "kernelspec": {
   "display_name": "Python 3 (ipykernel)",
   "language": "python",
   "name": "python3"
  },
  "language_info": {
   "codemirror_mode": {
    "name": "ipython",
    "version": 3
   },
   "file_extension": ".py",
   "mimetype": "text/x-python",
   "name": "python",
   "nbconvert_exporter": "python",
   "pygments_lexer": "ipython3",
   "version": "3.11.11"
  },
  "vscode": {
   "interpreter": {
    "hash": "31f2aee4e71d21fbe5cf8b01ff0e069b9275f58929596ceb00d14d90e3e16cd6"
   }
  }
 },
 "nbformat": 4,
 "nbformat_minor": 5
}
